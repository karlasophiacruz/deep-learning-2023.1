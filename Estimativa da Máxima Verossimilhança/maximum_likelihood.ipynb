{
 "cells": [
  {
   "cell_type": "markdown",
   "id": "34a33f7f",
   "metadata": {},
   "source": [
    "<html>\n",
    "<body>\n",
    "    <div class=\"image-container\" style=\"display: flex;\">\n",
    "        <img src=\"https://ufal.br/ufal/resolveuid/5ba5577fc45f41f48a6e8e9311488b28\" alt=\"Image 1\" style=\"width: 15%; height: auto;\">\n",
    "        <img src=\"https://ic.ufal.br/site-logo\" alt=\"Image 2\" style=\"width: 15%; height: auto;\">\n",
    "    </div>\n",
    "   <h1 align=\"center\"> Redes Neurais e Aprendizado Profundo - 2023.1 </h1>\n",
    "   <h2 align=\"center\"> Professor: Tiago Figueiredo Vieira </h2>\n",
    "</body>\n",
    "</html>"
   ]
  },
  {
   "cell_type": "markdown",
   "id": "bb6e3b98",
   "metadata": {},
   "source": [
    "---"
   ]
  },
  {
   "cell_type": "markdown",
   "id": "8c3f86b2",
   "metadata": {
    "deletable": false,
    "editable": false,
    "nbgrader": {
     "cell_type": "markdown",
     "checksum": "22736555e9b5ea1020409269a6a1a328",
     "grade": false,
     "grade_id": "cell-a3c2417006fbc676",
     "locked": true,
     "points": 5,
     "schema_version": 3,
     "solution": false,
     "task": true
    }
   },
   "source": [
    "# Estimativa da máxima verossimilhança\n",
    "\n",
    "Implemente o algoritmo da estimativa da máxima verossimilhança para encontrar os parâmetros da distribuição que melhor descreve a função densidade de probabilidade que deu origem aos dados disponíveis na base de dados em anexo ```x_train.npy``` usando o Tensorflow.\n",
    "\n",
    "Utilizar os nomes **mean** e **sigma** para as variáveis de **média** e **desvio padrão** respectivamente.\n",
    "\n",
    "**Gere a resposta final como um array do numpy(np.array()) não como uma lista.**"
   ]
  },
  {
   "cell_type": "code",
   "execution_count": 1,
   "id": "95a009d7",
   "metadata": {},
   "outputs": [],
   "source": [
    "import numpy as np\n",
    "import tensorflow as tf"
   ]
  },
  {
   "cell_type": "code",
   "execution_count": 2,
   "id": "962220c1",
   "metadata": {},
   "outputs": [],
   "source": [
    "def prob_density(x, mean, sigma):\n",
    "    return 1 / (tf.sqrt(2 * np.pi) * sigma) * tf.exp(-0.5 * ((x - mean) / sigma)**2)\n",
    "\n",
    "def likelihood(data, mean, sigma):\n",
    "    return tf.reduce_prod(prob_density(data, mean, sigma))\n",
    "\n",
    "def negative_log_likelihood(data, mean, sigma):\n",
    "    epsilon = 1e-8\n",
    "    prob_values = prob_density(data, mean, sigma)\n",
    "    \n",
    "    return -tf.reduce_sum(tf.math.log(prob_values + epsilon))\n",
    "\n",
    "def mle(x_train, iterations = 1000, learning_rate = 0.01):\n",
    "    if np.any(np.isnan(x_train)) or np.any(np.isinf(x_train)):\n",
    "        return None\n",
    "\n",
    "    mean = tf.Variable(np.mean(x_train), dtype = tf.float32)\n",
    "    sigma = tf.Variable(np.std(x_train), dtype = tf.float32)\n",
    "\n",
    "    optimizer = tf.optimizers.Adam(learning_rate = learning_rate)\n",
    "    \n",
    "    for _ in range(iterations): \n",
    "        with tf.GradientTape() as tape:\n",
    "            loss = negative_log_likelihood(x_train, mean, sigma)\n",
    "            \n",
    "        gradients = tape.gradient(loss, [mean, sigma])\n",
    "        optimizer.apply_gradients(zip(gradients, [mean, sigma]))\n",
    "\n",
    "    final_mean = mean.numpy()\n",
    "    final_sigma = sigma.numpy()\n",
    "\n",
    "    return np.array([final_mean, final_sigma])"
   ]
  },
  {
   "cell_type": "code",
   "execution_count": 3,
   "id": "50bb03db",
   "metadata": {
    "deletable": false,
    "nbgrader": {
     "cell_type": "code",
     "checksum": "0ad60eb8de52ba44c033b6f9bdbc9cf8",
     "grade": false,
     "grade_id": "cell-bea909348e43a7f4",
     "locked": false,
     "schema_version": 3,
     "solution": true,
     "task": false
    }
   },
   "outputs": [],
   "source": [
    "X_train = np.load('x_train.npy')\n",
    "parameters = mle(X_train)"
   ]
  },
  {
   "cell_type": "code",
   "execution_count": 4,
   "id": "13103f85",
   "metadata": {},
   "outputs": [
    {
     "name": "stdout",
     "output_type": "stream",
     "text": [
      "Final Parameters: [100.07784   14.733547]\n"
     ]
    }
   ],
   "source": [
    "print(\"Final Parameters:\", parameters)"
   ]
  },
  {
   "cell_type": "code",
   "execution_count": 5,
   "id": "492e3c79",
   "metadata": {
    "deletable": false,
    "editable": false,
    "nbgrader": {
     "cell_type": "code",
     "checksum": "6710bbf701805cfbcf747fbb66ff4aca",
     "grade": true,
     "grade_id": "cell-1a8b5444218a3fb1",
     "locked": true,
     "points": 5,
     "schema_version": 3,
     "solution": false,
     "task": false
    }
   },
   "outputs": [],
   "source": [
    "# Testes ocultos"
   ]
  }
 ],
 "metadata": {
  "kernelspec": {
   "display_name": "Python 3 (ipykernel)",
   "language": "python",
   "name": "python3"
  },
  "language_info": {
   "codemirror_mode": {
    "name": "ipython",
    "version": 3
   },
   "file_extension": ".py",
   "mimetype": "text/x-python",
   "name": "python",
   "nbconvert_exporter": "python",
   "pygments_lexer": "ipython3",
   "version": "3.11.3"
  }
 },
 "nbformat": 4,
 "nbformat_minor": 5
}
